{
 "cells": [
  {
   "cell_type": "code",
   "execution_count": 54,
   "id": "89040611",
   "metadata": {},
   "outputs": [],
   "source": [
    " def reverse(s):\n",
    "    str=\"\"\n",
    "    for i in s:\n",
    "        str=i+str\n",
    "    return str"
   ]
  },
  {
   "cell_type": "code",
   "execution_count": 55,
   "id": "dacdf3be",
   "metadata": {},
   "outputs": [],
   "source": [
    "s=\"1234abcd\""
   ]
  },
  {
   "cell_type": "code",
   "execution_count": 56,
   "id": "4b7c28a1",
   "metadata": {},
   "outputs": [
    {
     "name": "stdout",
     "output_type": "stream",
     "text": [
      "sample string\n",
      "1234abcd\n",
      "reversed string(using loops):\n",
      "dcba4321\n"
     ]
    }
   ],
   "source": [
    "print(\"sample string\")\n",
    "print(s)\n",
    "print(\"reversed string(using loops):\")\n",
    "print(reverse(s))"
   ]
  },
  {
   "cell_type": "code",
   "execution_count": 83,
   "id": "dde18b1f",
   "metadata": {},
   "outputs": [
    {
     "name": "stdout",
     "output_type": "stream",
     "text": [
      "None\n"
     ]
    }
   ],
   "source": [
    "x=[1,2,3,4,5,6]\n",
    "y=[2,3,4,5]\n",
    "x.append(y)\n",
    "print(z)\n",
    "\n",
    "\n",
    "           \n",
    "    "
   ]
  },
  {
   "cell_type": "raw",
   "id": "7c5aaeb6",
   "metadata": {},
   "source": []
  },
  {
   "cell_type": "code",
   "execution_count": null,
   "id": "a09441ff",
   "metadata": {},
   "outputs": [],
   "source": []
  }
 ],
 "metadata": {
  "kernelspec": {
   "display_name": "Python 3 (ipykernel)",
   "language": "python",
   "name": "python3"
  },
  "language_info": {
   "codemirror_mode": {
    "name": "ipython",
    "version": 3
   },
   "file_extension": ".py",
   "mimetype": "text/x-python",
   "name": "python",
   "nbconvert_exporter": "python",
   "pygments_lexer": "ipython3",
   "version": "3.10.1"
  }
 },
 "nbformat": 4,
 "nbformat_minor": 5
}
