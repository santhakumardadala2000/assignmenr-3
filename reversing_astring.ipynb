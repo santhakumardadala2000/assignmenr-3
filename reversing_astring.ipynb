{
 "cells": [
  {
   "cell_type": "code",
   "execution_count": 54,
   "id": "cdeb0cd5",
   "metadata": {},
   "outputs": [],
   "source": [
    " def reverse(s):\n",
    "    str=\"\"\n",
    "    for i in s:\n",
    "        str=i+str\n",
    "    return str"
   ]
  },
  {
   "cell_type": "code",
   "execution_count": 55,
   "id": "f7748fe0",
   "metadata": {},
   "outputs": [],
   "source": [
    "s=\"1234abcd\""
   ]
  },
  {
   "cell_type": "code",
   "execution_count": 84,
   "id": "64bd5552",
   "metadata": {},
   "outputs": [
    {
     "name": "stdout",
     "output_type": "stream",
     "text": [
      "sample string\n",
      "1234abcd\n",
      "reversed string(using loops):\n",
      "dcba4321\n"
     ]
    }
   ],
   "source": [
    "print(\"sample string\")\n",
    "print(s)\n",
    "print(\"reversed string(using loops):\")\n",
    "print(reverse(s))"
   ]
  },
  {
   "cell_type": "raw",
   "id": "4c4c7920",
   "metadata": {},
   "source": []
  },
  {
   "cell_type": "raw",
   "id": "c003ece3",
   "metadata": {},
   "source": []
  },
  {
   "cell_type": "code",
   "execution_count": null,
   "id": "9a872d85",
   "metadata": {},
   "outputs": [],
   "source": []
  }
 ],
 "metadata": {
  "kernelspec": {
   "display_name": "Python 3 (ipykernel)",
   "language": "python",
   "name": "python3"
  },
  "language_info": {
   "codemirror_mode": {
    "name": "ipython",
    "version": 3
   },
   "file_extension": ".py",
   "mimetype": "text/x-python",
   "name": "python",
   "nbconvert_exporter": "python",
   "pygments_lexer": "ipython3",
   "version": "3.10.1"
  }
 },
 "nbformat": 4,
 "nbformat_minor": 5
}
